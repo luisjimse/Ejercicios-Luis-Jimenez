{
 "cells": [
  {
   "cell_type": "markdown",
   "metadata": {
    "vscode": {
     "languageId": "plaintext"
    }
   },
   "source": [
    "#### 1. Define un set vacío llamado `mi_set` y luego imprímelo."
   ]
  },
  {
   "cell_type": "code",
   "execution_count": 13,
   "metadata": {},
   "outputs": [
    {
     "data": {
      "text/plain": [
       "set"
      ]
     },
     "execution_count": 13,
     "metadata": {},
     "output_type": "execute_result"
    }
   ],
   "source": [
    "mi_set = {}\n",
    "mi_set = set(mi_set)\n",
    "type(mi_set)"
   ]
  },
  {
   "cell_type": "markdown",
   "metadata": {},
   "source": [
    "#### 2. Añade los números `4`, `5` y `6` al set `mi_set`."
   ]
  },
  {
   "cell_type": "code",
   "execution_count": 19,
   "metadata": {},
   "outputs": [
    {
     "data": {
      "text/plain": [
       "{4, 5, 6}"
      ]
     },
     "execution_count": 19,
     "metadata": {},
     "output_type": "execute_result"
    }
   ],
   "source": [
    "mi_set.add(4)\n",
    "mi_set.add(5)\n",
    "mi_set.add(6)\n",
    "mi_set"
   ]
  },
  {
   "cell_type": "markdown",
   "metadata": {},
   "source": [
    "#### 3. Crea un set llamado `colores` con los siguientes elementos: `\"rojo\"`, `\"verde\"`, `\"azul\"`, `\"amarillo\"`, `\"negro\"` `\"blanco\"`.\n"
   ]
  },
  {
   "cell_type": "code",
   "execution_count": 24,
   "metadata": {},
   "outputs": [],
   "source": [
    "colores = {'rojo', 'verde', 'azul', 'amarillo', 'negro', 'blanco'}"
   ]
  },
  {
   "cell_type": "markdown",
   "metadata": {},
   "source": [
    "#### 4. Elimina el color 'rojo'  del set `colores`."
   ]
  },
  {
   "cell_type": "code",
   "execution_count": 25,
   "metadata": {},
   "outputs": [
    {
     "data": {
      "text/plain": [
       "{'amarillo', 'azul', 'blanco', 'negro', 'verde'}"
      ]
     },
     "execution_count": 25,
     "metadata": {},
     "output_type": "execute_result"
    }
   ],
   "source": [
    "colores.remove('rojo')\n",
    "colores"
   ]
  },
  {
   "cell_type": "markdown",
   "metadata": {},
   "source": [
    "#### 5. Verifica si el elemento `\"blanco\"` está presente en el set `colores`."
   ]
  },
  {
   "cell_type": "code",
   "execution_count": 26,
   "metadata": {},
   "outputs": [
    {
     "data": {
      "text/plain": [
       "True"
      ]
     },
     "execution_count": 26,
     "metadata": {},
     "output_type": "execute_result"
    }
   ],
   "source": [
    "'blanco' in colores"
   ]
  },
  {
   "cell_type": "markdown",
   "metadata": {},
   "source": [
    "#### 6. Crea un nuevo set que contenga todos los elementos de `set1` y `set2`, sin duplicados.\n",
    "\n",
    "```python\n",
    "set1 = {1, 2, 3}\n",
    "set2 = {3, 4, 5}\n",
    "```"
   ]
  },
  {
   "cell_type": "code",
   "execution_count": 29,
   "metadata": {},
   "outputs": [
    {
     "name": "stdout",
     "output_type": "stream",
     "text": [
      "{1, 2, 3, 4, 5}\n"
     ]
    }
   ],
   "source": [
    "set1 = {1, 2, 3}\n",
    "set2 = {3, 4, 5}\n",
    "set3 = set.union(set1, set2)\n",
    "print(set3)"
   ]
  },
  {
   "cell_type": "markdown",
   "metadata": {},
   "source": [
    "#### 7. Encuentra los elementos comunes entre `setA` y `setB`.\n",
    "\n",
    "```python\n",
    "setA = {1, 2, 3, 4}\n",
    "setB = {3, 4, 5, 6}\n",
    "```"
   ]
  },
  {
   "cell_type": "code",
   "execution_count": 30,
   "metadata": {},
   "outputs": [
    {
     "name": "stdout",
     "output_type": "stream",
     "text": [
      "{3, 4}\n"
     ]
    }
   ],
   "source": [
    "setA = {1, 2, 3, 4}\n",
    "setB = {3, 4, 5, 6}\n",
    "setC = set.intersection(setA, setB)\n",
    "print(setC)"
   ]
  },
  {
   "cell_type": "markdown",
   "metadata": {},
   "source": [
    "#### 8. Encuentra los elementos en `setX` que no están en `setY`.\n",
    "\n",
    "```python\n",
    "setX = {1, 2, 3, 4}\n",
    "setY = {3, 4, 5, 6}\n",
    "```"
   ]
  },
  {
   "cell_type": "code",
   "execution_count": 31,
   "metadata": {},
   "outputs": [
    {
     "name": "stdout",
     "output_type": "stream",
     "text": [
      "{1, 2}\n"
     ]
    }
   ],
   "source": [
    "setX = {1, 2, 3, 4}\n",
    "setY = {3, 4, 5, 6}\n",
    "setZ = set.difference(setX, setY)\n",
    "print(setZ)"
   ]
  },
  {
   "cell_type": "markdown",
   "metadata": {},
   "source": [
    "#### 9. Encuentra los elementos que están en `setP` o `setQ`, pero no en ambos.\n",
    "\n",
    "```python\n",
    "setP = {1, 2, 3, 4}\n",
    "setQ = {3, 4, 5, 6}\n",
    "```"
   ]
  },
  {
   "cell_type": "code",
   "execution_count": 32,
   "metadata": {},
   "outputs": [
    {
     "name": "stdout",
     "output_type": "stream",
     "text": [
      "{1, 2, 5, 6}\n"
     ]
    }
   ],
   "source": [
    "setP = {1, 2, 3, 4}\n",
    "setQ = {3, 4, 5, 6}\n",
    "setR = set.symmetric_difference(setP, setQ)\n",
    "print(setR)"
   ]
  },
  {
   "cell_type": "markdown",
   "metadata": {},
   "source": [
    "#### 10. Comprueba si `setA` es un subconjunto de `setB`.\n",
    "\n",
    "```python\n",
    "setA = {1, 2, 3}\n",
    "setB = {1, 2, 3, 4, 5}\n",
    "```"
   ]
  },
  {
   "cell_type": "code",
   "execution_count": 33,
   "metadata": {},
   "outputs": [
    {
     "data": {
      "text/plain": [
       "True"
      ]
     },
     "execution_count": 33,
     "metadata": {},
     "output_type": "execute_result"
    }
   ],
   "source": [
    "setA = {1, 2, 3}\n",
    "setB = {1, 2, 3, 4, 5}\n",
    "set.issubset(setA, setB)"
   ]
  },
  {
   "cell_type": "markdown",
   "metadata": {},
   "source": [
    "#### 11. Comprueba si `setM` y `setN` no tienen elementos en común.\n",
    "\n",
    "```python\n",
    "setM = {1, 2, 3}\n",
    "setN = {4, 5, 6}\n",
    "```"
   ]
  },
  {
   "cell_type": "code",
   "execution_count": 34,
   "metadata": {},
   "outputs": [
    {
     "data": {
      "text/plain": [
       "True"
      ]
     },
     "execution_count": 34,
     "metadata": {},
     "output_type": "execute_result"
    }
   ],
   "source": [
    "setM = {1, 2, 3}\n",
    "setN = {4, 5, 6}\n",
    "set.isdisjoint(setM, setN)"
   ]
  },
  {
   "cell_type": "markdown",
   "metadata": {},
   "source": [
    "#### 12. Vacía el set `conjunto` de manera que no contenga ningún elemento.\n",
    "\n",
    "```python\n",
    "conjunto = {1, 2, 3, 4, 5}\n",
    "```"
   ]
  },
  {
   "cell_type": "code",
   "execution_count": 35,
   "metadata": {},
   "outputs": [
    {
     "name": "stdout",
     "output_type": "stream",
     "text": [
      "set()\n"
     ]
    }
   ],
   "source": [
    "conjunto = {1, 2, 3, 4, 5}\n",
    "conjunto.clear()\n",
    "print(conjunto)"
   ]
  },
  {
   "cell_type": "markdown",
   "metadata": {},
   "source": [
    "#### 13. Crea un set llamado `numeros_set` que contenga los elementos de `lista_numeros`.\n",
    "\n",
    "```python\n",
    "lista_numeros = [1, 2, 3, 4, 5]\n",
    "```\n"
   ]
  },
  {
   "cell_type": "code",
   "execution_count": 37,
   "metadata": {},
   "outputs": [
    {
     "name": "stdout",
     "output_type": "stream",
     "text": [
      "{1, 2, 3, 4, 5}\n"
     ]
    }
   ],
   "source": [
    "lista_numeros = [1, 2, 3, 4, 5]\n",
    "numeros_set = set(lista_numeros)\n",
    "print(numeros_set)"
   ]
  },
  {
   "cell_type": "markdown",
   "metadata": {},
   "source": [
    "#### 14. Añade las letras `\"o\"` y `\"u\"` al set `vocales`.\n",
    "\n",
    "```python\n",
    "vocales = {\"a\", \"e\", \"i\"}\n",
    "```"
   ]
  },
  {
   "cell_type": "code",
   "execution_count": 39,
   "metadata": {},
   "outputs": [
    {
     "name": "stdout",
     "output_type": "stream",
     "text": [
      "{'e', 'u', 'a', 'o', 'i'}\n"
     ]
    }
   ],
   "source": [
    "vocales = {\"a\", \"e\", \"i\"}\n",
    "vocales.update('o', 'u')\n",
    "print(vocales)"
   ]
  },
  {
   "cell_type": "markdown",
   "metadata": {},
   "source": [
    "#### 15. Combina `setA` y `setB` utilizando el método `update` para modificar `setA` y agregar los elementos de `setB`.\n",
    "\n",
    "```python\n",
    "setA = {1, 2, 3}\n",
    "setB = {3, 4, 5}\n",
    "```"
   ]
  },
  {
   "cell_type": "code",
   "execution_count": 41,
   "metadata": {},
   "outputs": [
    {
     "name": "stdout",
     "output_type": "stream",
     "text": [
      "{1, 2, 3, 4, 5}\n"
     ]
    }
   ],
   "source": [
    "setA = {1, 2, 3}\n",
    "setB = {3, 4, 5}\n",
    "setA.update(setB)\n",
    "print(setA)"
   ]
  },
  {
   "cell_type": "markdown",
   "metadata": {},
   "source": [
    "#### 16. Elimina `\"conejo\"` del set `animales`.\n",
    "\n",
    "```python\n",
    "animales = {\"gato\", \"perro\", \"conejo\", \"ratón\"}\n",
    "```\n"
   ]
  },
  {
   "cell_type": "code",
   "execution_count": 42,
   "metadata": {},
   "outputs": [],
   "source": [
    "animales = {\"gato\", \"perro\", \"conejo\", \"ratón\"}\n",
    "animales.remove('conejo')"
   ]
  },
  {
   "cell_type": "markdown",
   "metadata": {},
   "source": [
    "#### 17. Calcula cuántos elementos tiene el set `setX` e imprime el resultado.\n",
    "\n",
    "```python\n",
    "setX = {1, 2, 3, 4, 5}\n",
    "```"
   ]
  },
  {
   "cell_type": "code",
   "execution_count": 43,
   "metadata": {},
   "outputs": [
    {
     "name": "stdout",
     "output_type": "stream",
     "text": [
      "5\n"
     ]
    }
   ],
   "source": [
    "setX = {1, 2, 3, 4, 5}\n",
    "print(len(setX))"
   ]
  },
  {
   "cell_type": "code",
   "execution_count": null,
   "metadata": {},
   "outputs": [],
   "source": []
  }
 ],
 "metadata": {
  "kernelspec": {
   "display_name": "Python 3",
   "language": "python",
   "name": "python3"
  },
  "language_info": {
   "codemirror_mode": {
    "name": "ipython",
    "version": 3
   },
   "file_extension": ".py",
   "mimetype": "text/x-python",
   "name": "python",
   "nbconvert_exporter": "python",
   "pygments_lexer": "ipython3",
   "version": "3.9.6"
  }
 },
 "nbformat": 4,
 "nbformat_minor": 2
}
