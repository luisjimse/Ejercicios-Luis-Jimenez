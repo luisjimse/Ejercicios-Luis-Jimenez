{
 "cells": [
  {
   "cell_type": "markdown",
   "metadata": {},
   "source": [
    "<div style=\"text-align: center;\">\n",
    "  <img src=\"https://github.com/Hack-io-Data/Imagenes/blob/main/01-LogosHackio/logo_celeste@4x.png?raw=true\" alt=\"logo hack(io)\" />\n",
    "</div>"
   ]
  },
  {
   "cell_type": "markdown",
   "metadata": {},
   "source": [
    "#### 1. Escribe un programa que determine si un número es par o impar.\n",
    "\n"
   ]
  },
  {
   "cell_type": "code",
   "execution_count": 23,
   "metadata": {},
   "outputs": [
    {
     "name": "stdout",
     "output_type": "stream",
     "text": [
      "Es par\n"
     ]
    }
   ],
   "source": [
    "numero = 2\n",
    "\n",
    "if numero % 2 == 0:\n",
    "    print('Es par')\n",
    "else:\n",
    "    print('Es impar')"
   ]
  },
  {
   "cell_type": "markdown",
   "metadata": {},
   "source": [
    "#### 2. Genera un programa que nos diga si es de noche, de día o tarde según la hora proporcionada por el usuario."
   ]
  },
  {
   "cell_type": "code",
   "execution_count": 36,
   "metadata": {},
   "outputs": [
    {
     "name": "stdout",
     "output_type": "stream",
     "text": [
      "Es de noche\n"
     ]
    }
   ],
   "source": [
    "hora = 5\n",
    "\n",
    "if 7 <= hora <= 12 :\n",
    "    print('Es de día')\n",
    "elif 13 <= hora <= 20:\n",
    "    print('Es por la tarde')\n",
    "elif 21 <= hora <= 24 or 0 <= hora <= 6:\n",
    "    print('Es de noche')\n",
    "else:\n",
    "    print('No es una hora váilda')"
   ]
  },
  {
   "cell_type": "markdown",
   "metadata": {},
   "source": [
    "#### 3. Dado un nombre imprime un saludo personalizado."
   ]
  },
  {
   "cell_type": "code",
   "execution_count": 48,
   "metadata": {},
   "outputs": [
    {
     "name": "stdout",
     "output_type": "stream",
     "text": [
      "¡Muy buenas,  Carla !\n"
     ]
    }
   ],
   "source": [
    "nombre = 'Carla'\n",
    "\n",
    "print('¡Muy buenas, ', nombre,'!')"
   ]
  },
  {
   "cell_type": "markdown",
   "metadata": {},
   "source": [
    "#### 4. Escribe un programa que determine qué calificación en texto tiene un alumno en base a su calificación numérica. Las reglas de calificación son: \n",
    "\n",
    "- 0 - 69 insuficiente\n",
    "\n",
    "- 70 - 79 bien\n",
    "\n",
    "- 80 - 89 muy bien\n",
    "\n",
    "- 90 - 100 excelente\n"
   ]
  },
  {
   "cell_type": "code",
   "execution_count": 54,
   "metadata": {},
   "outputs": [
    {
     "name": "stdout",
     "output_type": "stream",
     "text": [
      "excelente\n"
     ]
    }
   ],
   "source": [
    "nota = 99\n",
    "\n",
    "if 0 <= nota <= 69:\n",
    "    print('insuficiente')\n",
    "elif 70<= nota <= 79:\n",
    "    print('bien')\n",
    "elif 80 <= nota <= 89:\n",
    "    print('muy bien')\n",
    "elif 90 <= nota <= 100:\n",
    "    print('excelente')\n",
    "else:\n",
    "    print('Nota no válida')"
   ]
  },
  {
   "cell_type": "markdown",
   "metadata": {},
   "source": [
    "#### 5. Escribe un programa que imprima el día de la semana, dado un número del 1 al 7.\n"
   ]
  },
  {
   "cell_type": "code",
   "execution_count": 58,
   "metadata": {},
   "outputs": [
    {
     "name": "stdout",
     "output_type": "stream",
     "text": [
      "viernes\n"
     ]
    }
   ],
   "source": [
    "dia = 5\n",
    "\n",
    "if dia == 1:\n",
    "    print('lunes')\n",
    "elif dia == 2:\n",
    "    print('martes')\n",
    "elif dia == 3:\n",
    "    print('miercoles')\n",
    "elif dia == 4:\n",
    "    print('jueves')\n",
    "elif dia == 5:\n",
    "    print('viernes')\n",
    "elif dia == 6:\n",
    "    print('sabado')\n",
    "elif dia == 7:\n",
    "    print('domingo')\n",
    "else:\n",
    "    print('Día no válido')"
   ]
  },
  {
   "cell_type": "markdown",
   "metadata": {},
   "source": [
    "#### 6. Escribe un programa que determine si un número es positivo, negativo o cero."
   ]
  },
  {
   "cell_type": "code",
   "execution_count": 61,
   "metadata": {},
   "outputs": [
    {
     "name": "stdout",
     "output_type": "stream",
     "text": [
      "El número es negativo\n"
     ]
    }
   ],
   "source": [
    "numero = -27\n",
    "\n",
    "if numero > 0:\n",
    "    print('El número es positivo')\n",
    "elif numero < 0:\n",
    "    print('El número es negativo')\n",
    "else:\n",
    "    print('El número es cero')"
   ]
  },
  {
   "cell_type": "markdown",
   "metadata": {},
   "source": [
    "#### 7. Escribe un programa que determine si una persona puede conducir o no. La edad mínima para conducir es 18 años. \n"
   ]
  },
  {
   "cell_type": "code",
   "execution_count": 65,
   "metadata": {},
   "outputs": [
    {
     "name": "stdout",
     "output_type": "stream",
     "text": [
      "La persona no puede conducir\n"
     ]
    }
   ],
   "source": [
    "edad = 12\n",
    "\n",
    "if edad >= 18:\n",
    "    print('La persona puede conducir')\n",
    "else:\n",
    "    print('La persona no puede conducir')"
   ]
  },
  {
   "cell_type": "markdown",
   "metadata": {},
   "source": [
    "#### 8. Escribe un programa que determine si un estudiante aprobó o suspendió un examen."
   ]
  },
  {
   "cell_type": "code",
   "execution_count": 67,
   "metadata": {},
   "outputs": [
    {
     "name": "stdout",
     "output_type": "stream",
     "text": [
      "El estudiante ha aprobado\n"
     ]
    }
   ],
   "source": [
    "nota = 5\n",
    "\n",
    "if nota >= 5:\n",
    "    print('El estudiante ha aprobado')\n",
    "else:\n",
    "    print('El estudiante ha suspendido')"
   ]
  },
  {
   "cell_type": "markdown",
   "metadata": {},
   "source": [
    "#### 9. Escribe un programa que determine si un número es múltiplo de 3 y 5.\n"
   ]
  },
  {
   "cell_type": "code",
   "execution_count": 71,
   "metadata": {},
   "outputs": [
    {
     "name": "stdout",
     "output_type": "stream",
     "text": [
      "El número es múltiplo de 3 y 5\n"
     ]
    }
   ],
   "source": [
    "numero_mul = 30\n",
    "\n",
    "if numero_mul % 5 == 0 and numero_mul % 3 == 0:\n",
    "    print('El número es múltiplo de 3 y 5')\n",
    "else:\n",
    "    print('El número no es múltiplo de 3 y 5')"
   ]
  },
  {
   "cell_type": "markdown",
   "metadata": {},
   "source": [
    "#### 10. Escribe un programa que determine si un número es par o impar.\n"
   ]
  },
  {
   "cell_type": "code",
   "execution_count": 72,
   "metadata": {},
   "outputs": [
    {
     "name": "stdout",
     "output_type": "stream",
     "text": [
      "Es par\n"
     ]
    }
   ],
   "source": [
    "numero = 2\n",
    "\n",
    "if numero % 2 == 0:\n",
    "    print('Es par')\n",
    "else:\n",
    "    print('Es impar')"
   ]
  },
  {
   "cell_type": "code",
   "execution_count": null,
   "metadata": {},
   "outputs": [],
   "source": []
  }
 ],
 "metadata": {
  "kernelspec": {
   "display_name": "Python 3",
   "language": "python",
   "name": "python3"
  },
  "language_info": {
   "codemirror_mode": {
    "name": "ipython",
    "version": 3
   },
   "file_extension": ".py",
   "mimetype": "text/x-python",
   "name": "python",
   "nbconvert_exporter": "python",
   "pygments_lexer": "ipython3",
   "version": "3.9.6"
  }
 },
 "nbformat": 4,
 "nbformat_minor": 2
}
