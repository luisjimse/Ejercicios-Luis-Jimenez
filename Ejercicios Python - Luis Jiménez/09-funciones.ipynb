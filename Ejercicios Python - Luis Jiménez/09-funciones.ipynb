{
 "cells": [
  {
   "cell_type": "markdown",
   "metadata": {},
   "source": [
    "\n",
    "<div style=\"text-align: center;\">\n",
    "  <img src=\"https://github.com/Hack-io-Data/Imagenes/blob/main/01-LogosHackio/logo_celeste@4x.png?raw=true\" alt=\"esquema\" />\n",
    "</div>"
   ]
  },
  {
   "cell_type": "markdown",
   "metadata": {},
   "source": [
    "#### 1. Escribe una función sin parámetros que imprima el siguiente mensaje \"¡Hola! Bienvenido.\"\n"
   ]
  },
  {
   "cell_type": "code",
   "execution_count": 5,
   "metadata": {},
   "outputs": [
    {
     "name": "stdout",
     "output_type": "stream",
     "text": [
      "¡Hola! Bienvenido.\n"
     ]
    }
   ],
   "source": [
    "def mensaje():\n",
    "    return print('¡Hola! Bienvenido.')\n",
    "\n",
    "mensaje()"
   ]
  },
  {
   "cell_type": "markdown",
   "metadata": {},
   "source": [
    "#### 2. Escribe una función que reciba dos parámetros y devuelva la suma de ambos.\n"
   ]
  },
  {
   "cell_type": "code",
   "execution_count": 7,
   "metadata": {},
   "outputs": [
    {
     "data": {
      "text/plain": [
       "5"
      ]
     },
     "execution_count": 7,
     "metadata": {},
     "output_type": "execute_result"
    }
   ],
   "source": [
    "def suma(a, b):\n",
    "    return a + b\n",
    "\n",
    "suma(2, 3)"
   ]
  },
  {
   "cell_type": "markdown",
   "metadata": {},
   "source": [
    "#### 3. Escribe una función que reciba un número y devuelva True si es par, False si no lo es."
   ]
  },
  {
   "cell_type": "code",
   "execution_count": 9,
   "metadata": {},
   "outputs": [
    {
     "data": {
      "text/plain": [
       "True"
      ]
     },
     "execution_count": 9,
     "metadata": {},
     "output_type": "execute_result"
    }
   ],
   "source": [
    "def parimpar(n):\n",
    "    if n % 2 == 0:\n",
    "        return True\n",
    "    else:\n",
    "        return False\n",
    "\n",
    "parimpar(4)"
   ]
  },
  {
   "cell_type": "markdown",
   "metadata": {},
   "source": [
    "#### 4. Escribe un función que devuelva un saludo personalizado a una persona dado su nombre. \n"
   ]
  },
  {
   "cell_type": "code",
   "execution_count": 15,
   "metadata": {},
   "outputs": [],
   "source": [
    "def saludo(nombre):\n",
    "    return 'Qué pasa, {nombre}!'"
   ]
  },
  {
   "cell_type": "markdown",
   "metadata": {},
   "source": [
    "#### 5. Escribe una función que sume todos los números que reciba como argumento. La función debe recibir una cantidad variable de argumentos y devolver la suma de todos ellos."
   ]
  },
  {
   "cell_type": "code",
   "execution_count": 17,
   "metadata": {},
   "outputs": [
    {
     "data": {
      "text/plain": [
       "38"
      ]
     },
     "execution_count": 17,
     "metadata": {},
     "output_type": "execute_result"
    }
   ],
   "source": [
    "def suma(*args):\n",
    "    return sum(args)\n",
    "\n",
    "suma(2, 9, 3, 24)"
   ]
  },
  {
   "cell_type": "markdown",
   "metadata": {},
   "source": [
    "#### 6. Escribe una función que cuente las letras de una palabra y devuelva un diccionario con la cantidad de veces que se repite cada letra \n"
   ]
  },
  {
   "cell_type": "code",
   "execution_count": 19,
   "metadata": {},
   "outputs": [
    {
     "name": "stdout",
     "output_type": "stream",
     "text": [
      "{'p': 2, 'a': 2, 'm': 1, 'o': 1, 'v': 1, 'i': 1, 'l': 1}\n"
     ]
    }
   ],
   "source": [
    "def letras_palabra(palabra):\n",
    "    palabra = palabra.lower()\n",
    "    conteo = {}\n",
    "    for letra in palabra:\n",
    "        if letra in conteo:\n",
    "            conteo[letra] += 1\n",
    "        else:\n",
    "            conteo[letra] = 1\n",
    "    return conteo\n",
    "\n",
    "print(letras_palabra('Papamovil'))"
   ]
  },
  {
   "cell_type": "markdown",
   "metadata": {},
   "source": [
    "#### 7. Escribe un función recursiva para calcular el factorial de un número entero no negativo."
   ]
  },
  {
   "cell_type": "code",
   "execution_count": 22,
   "metadata": {},
   "outputs": [
    {
     "data": {
      "text/plain": [
       "6"
      ]
     },
     "execution_count": 22,
     "metadata": {},
     "output_type": "execute_result"
    }
   ],
   "source": [
    "def factorial(n):\n",
    "    if n == 0:\n",
    "        return 1\n",
    "    else:\n",
    "        return n * factorial(n - 1)\n",
    "    \n",
    "factorial(3)"
   ]
  },
  {
   "cell_type": "markdown",
   "metadata": {},
   "source": [
    "#### 8. Escribe una función que tome dos parámetros: `figura` (una cadena que puede ser `\"rectangulo\"`, `\"circulo\"` o `\"triangulo\"`) y `datos` (una tupla con los datos necesarios para calcular el área de la figura). "
   ]
  },
  {
   "cell_type": "code",
   "execution_count": 23,
   "metadata": {},
   "outputs": [
    {
     "name": "stdout",
     "output_type": "stream",
     "text": [
      "Área del rectángulo: 50\n",
      "Área del círculo: 153.9384\n",
      "Área del triángulo: 12.0\n"
     ]
    }
   ],
   "source": [
    "def calcular_area(figura, datos):\n",
    "    if figura == \"rectangulo\":\n",
    "        base, altura = datos\n",
    "        return base * altura\n",
    "    elif figura == \"circulo\":\n",
    "        radio, = datos\n",
    "        return 3.1416 * radio ** 2\n",
    "    elif figura == \"triangulo\":\n",
    "        base, altura = datos\n",
    "        return (base * altura) / 2\n",
    "    else:\n",
    "        return \"Figura no válida\"\n",
    "    \n",
    "area_rectangulo = calcular_area(\"rectangulo\", (5, 10))\n",
    "print(f\"Área del rectángulo: {area_rectangulo}\")\n",
    "\n",
    "area_circulo = calcular_area(\"circulo\", (7,))\n",
    "print(f\"Área del círculo: {area_circulo}\")\n",
    "\n",
    "area_triangulo = calcular_area(\"triangulo\", (6, 4))\n",
    "print(f\"Área del triángulo: {area_triangulo}\")"
   ]
  },
  {
   "cell_type": "markdown",
   "metadata": {},
   "source": [
    "#### 9. Escribe una función que tome una lista de números como parámetro y devuelva el número más grande de la lista. No utilices la función `max()` de Python en tu solución."
   ]
  },
  {
   "cell_type": "code",
   "execution_count": 26,
   "metadata": {},
   "outputs": [
    {
     "data": {
      "text/plain": [
       "8"
      ]
     },
     "execution_count": 26,
     "metadata": {},
     "output_type": "execute_result"
    }
   ],
   "source": [
    "def numero_maximo(numeros):\n",
    "    maximo = numeros[0]\n",
    "\n",
    "    for numero in numeros:\n",
    "        if numero > maximo:\n",
    "            maximo = numero\n",
    "    return maximo\n",
    "\n",
    "ejemplo = [2, 4, 1, 8, 3]\n",
    "numero_maximo(ejemplo)"
   ]
  },
  {
   "cell_type": "markdown",
   "metadata": {},
   "source": [
    "#### 10. Escribe una función que tome una cadena como parámetro un texto y devuelva `True` si la cadena es un palíndromo (se lee igual de izquierda a derecha que de derecha a izquierda), y `False` en caso contrario. Ignora los espacios y considera mayúsculas y minúsculas de manera insensible.\n"
   ]
  },
  {
   "cell_type": "code",
   "execution_count": null,
   "metadata": {},
   "outputs": [],
   "source": []
  },
  {
   "cell_type": "markdown",
   "metadata": {},
   "source": [
    "#### 11. Escribe una función que tome una cadena como parámetro y devuelva dos valores: la cantidad de vocales y la cantidad de consonantes presentes en la cadena. Ignora los espacios y considera mayúsculas y minúsculas de manera insensible.\n"
   ]
  },
  {
   "cell_type": "code",
   "execution_count": null,
   "metadata": {},
   "outputs": [],
   "source": []
  }
 ],
 "metadata": {
  "kernelspec": {
   "display_name": "Python 3",
   "language": "python",
   "name": "python3"
  },
  "language_info": {
   "codemirror_mode": {
    "name": "ipython",
    "version": 3
   },
   "file_extension": ".py",
   "mimetype": "text/x-python",
   "name": "python",
   "nbconvert_exporter": "python",
   "pygments_lexer": "ipython3",
   "version": "3.9.6"
  }
 },
 "nbformat": 4,
 "nbformat_minor": 2
}
